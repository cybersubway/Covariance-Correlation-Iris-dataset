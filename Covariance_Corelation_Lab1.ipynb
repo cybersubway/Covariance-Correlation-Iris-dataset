{
 "cells": [
  {
   "cell_type": "code",
   "execution_count": 1,
   "id": "3163c7bc-1a78-4208-888e-ffcbe1227830",
   "metadata": {},
   "outputs": [],
   "source": [
    "import pandas as pd"
   ]
  },
  {
   "cell_type": "code",
   "execution_count": 2,
   "id": "cbcf0ef0-e5b3-47ae-b140-e49d04c5c0c0",
   "metadata": {},
   "outputs": [
    {
     "data": {
      "text/html": [
       "<div>\n",
       "<style scoped>\n",
       "    .dataframe tbody tr th:only-of-type {\n",
       "        vertical-align: middle;\n",
       "    }\n",
       "\n",
       "    .dataframe tbody tr th {\n",
       "        vertical-align: top;\n",
       "    }\n",
       "\n",
       "    .dataframe thead th {\n",
       "        text-align: right;\n",
       "    }\n",
       "</style>\n",
       "<table border=\"1\" class=\"dataframe\">\n",
       "  <thead>\n",
       "    <tr style=\"text-align: right;\">\n",
       "      <th></th>\n",
       "      <th>sepal_length</th>\n",
       "      <th>sepal_width</th>\n",
       "      <th>petal_length</th>\n",
       "      <th>petal_width</th>\n",
       "      <th>species</th>\n",
       "    </tr>\n",
       "  </thead>\n",
       "  <tbody>\n",
       "    <tr>\n",
       "      <th>0</th>\n",
       "      <td>5.1</td>\n",
       "      <td>3.5</td>\n",
       "      <td>1.4</td>\n",
       "      <td>0.2</td>\n",
       "      <td>setosa</td>\n",
       "    </tr>\n",
       "    <tr>\n",
       "      <th>1</th>\n",
       "      <td>4.9</td>\n",
       "      <td>3.0</td>\n",
       "      <td>1.4</td>\n",
       "      <td>0.2</td>\n",
       "      <td>setosa</td>\n",
       "    </tr>\n",
       "    <tr>\n",
       "      <th>2</th>\n",
       "      <td>4.7</td>\n",
       "      <td>3.2</td>\n",
       "      <td>1.3</td>\n",
       "      <td>0.2</td>\n",
       "      <td>setosa</td>\n",
       "    </tr>\n",
       "    <tr>\n",
       "      <th>3</th>\n",
       "      <td>4.6</td>\n",
       "      <td>3.1</td>\n",
       "      <td>1.5</td>\n",
       "      <td>0.2</td>\n",
       "      <td>setosa</td>\n",
       "    </tr>\n",
       "    <tr>\n",
       "      <th>4</th>\n",
       "      <td>5.0</td>\n",
       "      <td>3.6</td>\n",
       "      <td>1.4</td>\n",
       "      <td>0.2</td>\n",
       "      <td>setosa</td>\n",
       "    </tr>\n",
       "    <tr>\n",
       "      <th>...</th>\n",
       "      <td>...</td>\n",
       "      <td>...</td>\n",
       "      <td>...</td>\n",
       "      <td>...</td>\n",
       "      <td>...</td>\n",
       "    </tr>\n",
       "    <tr>\n",
       "      <th>145</th>\n",
       "      <td>6.7</td>\n",
       "      <td>3.0</td>\n",
       "      <td>5.2</td>\n",
       "      <td>2.3</td>\n",
       "      <td>virginica</td>\n",
       "    </tr>\n",
       "    <tr>\n",
       "      <th>146</th>\n",
       "      <td>6.3</td>\n",
       "      <td>2.5</td>\n",
       "      <td>5.0</td>\n",
       "      <td>1.9</td>\n",
       "      <td>virginica</td>\n",
       "    </tr>\n",
       "    <tr>\n",
       "      <th>147</th>\n",
       "      <td>6.5</td>\n",
       "      <td>3.0</td>\n",
       "      <td>5.2</td>\n",
       "      <td>2.0</td>\n",
       "      <td>virginica</td>\n",
       "    </tr>\n",
       "    <tr>\n",
       "      <th>148</th>\n",
       "      <td>6.2</td>\n",
       "      <td>3.4</td>\n",
       "      <td>5.4</td>\n",
       "      <td>2.3</td>\n",
       "      <td>virginica</td>\n",
       "    </tr>\n",
       "    <tr>\n",
       "      <th>149</th>\n",
       "      <td>5.9</td>\n",
       "      <td>3.0</td>\n",
       "      <td>5.1</td>\n",
       "      <td>1.8</td>\n",
       "      <td>virginica</td>\n",
       "    </tr>\n",
       "  </tbody>\n",
       "</table>\n",
       "<p>150 rows × 5 columns</p>\n",
       "</div>"
      ],
      "text/plain": [
       "     sepal_length  sepal_width  petal_length  petal_width    species\n",
       "0             5.1          3.5           1.4          0.2     setosa\n",
       "1             4.9          3.0           1.4          0.2     setosa\n",
       "2             4.7          3.2           1.3          0.2     setosa\n",
       "3             4.6          3.1           1.5          0.2     setosa\n",
       "4             5.0          3.6           1.4          0.2     setosa\n",
       "..            ...          ...           ...          ...        ...\n",
       "145           6.7          3.0           5.2          2.3  virginica\n",
       "146           6.3          2.5           5.0          1.9  virginica\n",
       "147           6.5          3.0           5.2          2.0  virginica\n",
       "148           6.2          3.4           5.4          2.3  virginica\n",
       "149           5.9          3.0           5.1          1.8  virginica\n",
       "\n",
       "[150 rows x 5 columns]"
      ]
     },
     "execution_count": 2,
     "metadata": {},
     "output_type": "execute_result"
    }
   ],
   "source": [
    "df=pd.read_csv(r'C:\\Users\\Ali\\Downloads\\csv_datasets\\iris.csv')\n",
    "df"
   ]
  },
  {
   "cell_type": "code",
   "execution_count": 5,
   "id": "621e9552-2c8e-445e-bac4-1a93d708340e",
   "metadata": {},
   "outputs": [],
   "source": [
    "df=df.drop(columns=['species'])"
   ]
  },
  {
   "cell_type": "code",
   "execution_count": 6,
   "id": "e3e90507-2400-47ca-af02-8a3472214d45",
   "metadata": {},
   "outputs": [
    {
     "data": {
      "text/plain": [
       "Index(['sepal_length', 'sepal_width', 'petal_length', 'petal_width'], dtype='object')"
      ]
     },
     "execution_count": 6,
     "metadata": {},
     "output_type": "execute_result"
    }
   ],
   "source": [
    "df.columns"
   ]
  },
  {
   "cell_type": "code",
   "execution_count": 32,
   "id": "5322199c-2373-49bb-9b7e-48126318063b",
   "metadata": {},
   "outputs": [
    {
     "name": "stdout",
     "output_type": "stream",
     "text": [
      "The sum of the values in sepal length column is 876.5000000000002\n",
      "The mean of the values in sepal length column is 5.843333333333335\n",
      "The sum of the squared values of x-mean(x) is: 102.16833333333332\n",
      "The standard deviation of sepal length column is: 0.8253012917851409\n"
     ]
    }
   ],
   "source": [
    "sum=0\n",
    "for i in df['sepal_length']:\n",
    "    sum=sum+i\n",
    "print('The sum of the values in sepal length column is', sum)\n",
    "mean=sum/len(df)\n",
    "print('The mean of the values in sepal length column is', mean)\n",
    "\n",
    "# NOW CALCULATING THE DEVIATIONS #\n",
    "df['dev1']=df['sepal_length']-mean\n",
    "df['dev1']\n",
    "\n",
    "# NOW CALCULATING THE VARIANCE #\n",
    "# SQUARING THE TERMS (X-MEAN(X)) #\n",
    "df['SD1']=df['dev1']**2\n",
    "\n",
    "# SUM OF VALUES OF SQUARED TERMS #\n",
    "sum=0\n",
    "for i in df['SD1']:\n",
    "    sum=sum+i\n",
    "print('The sum of the squared values of x-mean(x) is:',sum)\n",
    "\n",
    "# DIVIVDING BY THE TOTAL TERMS TO GET VARIANCE #\n",
    "variance1=sum/len(df)\n",
    "variance1\n",
    "sd1=variance1**0.5\n",
    "print('The standard deviation of sepal length column is:',sd1)\n"
   ]
  },
  {
   "cell_type": "code",
   "execution_count": 35,
   "id": "64704a23-f792-468c-814b-a7c0486c6423",
   "metadata": {},
   "outputs": [
    {
     "name": "stdout",
     "output_type": "stream",
     "text": [
      "The sum of the sepal width column values is: 458.60000000000014\n",
      "The mean of the sepal width column values is: 3.057333333333334\n",
      "The standard deviation of sepal width column is: 0.43441096773549437\n"
     ]
    }
   ],
   "source": [
    "add=0\n",
    "for i in df['sepal_width']:\n",
    "    add=add+i\n",
    "print('The sum of the sepal width column values is:',add)\n",
    "print('The mean of the sepal width column values is:',add/len(df))\n",
    "\n",
    "df['dev2']=df['sepal_width']-add/len(df)\n",
    "df['dev2']\n",
    "\n",
    "df['SD2']=df['dev2']**2\n",
    "add=0\n",
    "for i in df['SD2']:\n",
    "    add=add+i\n",
    "variance2=add/len(df)\n",
    "variance2\n",
    "\n",
    "sd2=variance2**0.5\n",
    "print('The standard deviation of sepal width column is:',sd2)"
   ]
  },
  {
   "cell_type": "code",
   "execution_count": 43,
   "id": "27ceeb91-7587-441e-b6b3-2a72c1c6261d",
   "metadata": {},
   "outputs": [
    {
     "name": "stdout",
     "output_type": "stream",
     "text": [
      "The sum of the petal length column values is: 563.7000000000004\n",
      "The sum of the deviation values is: 464.3254000000001\n",
      "The standard deviation of petal length column is: 1.7594040657753032\n"
     ]
    }
   ],
   "source": [
    "add=0\n",
    "for i in df['petal_length']:\n",
    "    add=add+i\n",
    "print('The sum of the petal length column values is:',add)\n",
    "mean=add/len(df)\n",
    "mean\n",
    "df['dev3']=df['petal_length']-mean\n",
    "df['dev3']\n",
    "\n",
    "df['SD3']=df['dev3']**2\n",
    "add=0\n",
    "for i in df['SD3']:\n",
    "    add=add+i\n",
    "print('The sum of the deviation values is:',add)\n",
    "variance3=add/len(df)\n",
    "variance3\n",
    "sd3=variance3**0.5\n",
    "print('The standard deviation of petal length column is:',sd3)"
   ]
  },
  {
   "cell_type": "code",
   "execution_count": 45,
   "id": "9e347a37-1b09-4bb5-a085-ea8b097f5061",
   "metadata": {},
   "outputs": [
    {
     "name": "stdout",
     "output_type": "stream",
     "text": [
      "The sum of the petal width column values is: 179.90000000000012\n",
      "The sum of the deviation values is: 86.56993333333332\n",
      "The standard deviation of petal length column is: 0.7596926279021594\n"
     ]
    }
   ],
   "source": [
    "add=0\n",
    "for i in df['petal_width']:\n",
    "    add=add+i\n",
    "print('The sum of the petal width column values is:',add)\n",
    "mean=add/len(df)\n",
    "mean\n",
    "df['dev4']=df['petal_width']-mean\n",
    "df['dev4']\n",
    "\n",
    "df['SD4']=df['dev4']**2\n",
    "add=0\n",
    "for i in df['SD4']:\n",
    "    add=add+i\n",
    "print('The sum of the deviation values is:',add)\n",
    "variance4=add/len(df)\n",
    "variance4\n",
    "sd4=variance4**0.5\n",
    "print('The standard deviation of petal length column is:',sd4)"
   ]
  },
  {
   "cell_type": "code",
   "execution_count": 46,
   "id": "c0a9b06d-26df-4b60-8295-bbe34d9ee215",
   "metadata": {},
   "outputs": [
    {
     "data": {
      "text/html": [
       "<div>\n",
       "<style scoped>\n",
       "    .dataframe tbody tr th:only-of-type {\n",
       "        vertical-align: middle;\n",
       "    }\n",
       "\n",
       "    .dataframe tbody tr th {\n",
       "        vertical-align: top;\n",
       "    }\n",
       "\n",
       "    .dataframe thead th {\n",
       "        text-align: right;\n",
       "    }\n",
       "</style>\n",
       "<table border=\"1\" class=\"dataframe\">\n",
       "  <thead>\n",
       "    <tr style=\"text-align: right;\">\n",
       "      <th></th>\n",
       "      <th>sepal_length</th>\n",
       "      <th>sepal_width</th>\n",
       "      <th>petal_length</th>\n",
       "      <th>petal_width</th>\n",
       "      <th>dev1</th>\n",
       "      <th>SD1</th>\n",
       "      <th>dev2</th>\n",
       "      <th>SD2</th>\n",
       "      <th>dev3</th>\n",
       "      <th>SD3</th>\n",
       "      <th>dev4</th>\n",
       "      <th>SD4</th>\n",
       "    </tr>\n",
       "  </thead>\n",
       "  <tbody>\n",
       "    <tr>\n",
       "      <th>0</th>\n",
       "      <td>5.1</td>\n",
       "      <td>3.5</td>\n",
       "      <td>1.4</td>\n",
       "      <td>0.2</td>\n",
       "      <td>-0.743333</td>\n",
       "      <td>0.552544</td>\n",
       "      <td>0.442667</td>\n",
       "      <td>0.195954</td>\n",
       "      <td>-2.358</td>\n",
       "      <td>5.560164</td>\n",
       "      <td>-0.999333</td>\n",
       "      <td>0.998667</td>\n",
       "    </tr>\n",
       "    <tr>\n",
       "      <th>1</th>\n",
       "      <td>4.9</td>\n",
       "      <td>3.0</td>\n",
       "      <td>1.4</td>\n",
       "      <td>0.2</td>\n",
       "      <td>-0.943333</td>\n",
       "      <td>0.889878</td>\n",
       "      <td>-0.057333</td>\n",
       "      <td>0.003287</td>\n",
       "      <td>-2.358</td>\n",
       "      <td>5.560164</td>\n",
       "      <td>-0.999333</td>\n",
       "      <td>0.998667</td>\n",
       "    </tr>\n",
       "    <tr>\n",
       "      <th>2</th>\n",
       "      <td>4.7</td>\n",
       "      <td>3.2</td>\n",
       "      <td>1.3</td>\n",
       "      <td>0.2</td>\n",
       "      <td>-1.143333</td>\n",
       "      <td>1.307211</td>\n",
       "      <td>0.142667</td>\n",
       "      <td>0.020354</td>\n",
       "      <td>-2.458</td>\n",
       "      <td>6.041764</td>\n",
       "      <td>-0.999333</td>\n",
       "      <td>0.998667</td>\n",
       "    </tr>\n",
       "    <tr>\n",
       "      <th>3</th>\n",
       "      <td>4.6</td>\n",
       "      <td>3.1</td>\n",
       "      <td>1.5</td>\n",
       "      <td>0.2</td>\n",
       "      <td>-1.243333</td>\n",
       "      <td>1.545878</td>\n",
       "      <td>0.042667</td>\n",
       "      <td>0.001820</td>\n",
       "      <td>-2.258</td>\n",
       "      <td>5.098564</td>\n",
       "      <td>-0.999333</td>\n",
       "      <td>0.998667</td>\n",
       "    </tr>\n",
       "    <tr>\n",
       "      <th>4</th>\n",
       "      <td>5.0</td>\n",
       "      <td>3.6</td>\n",
       "      <td>1.4</td>\n",
       "      <td>0.2</td>\n",
       "      <td>-0.843333</td>\n",
       "      <td>0.711211</td>\n",
       "      <td>0.542667</td>\n",
       "      <td>0.294487</td>\n",
       "      <td>-2.358</td>\n",
       "      <td>5.560164</td>\n",
       "      <td>-0.999333</td>\n",
       "      <td>0.998667</td>\n",
       "    </tr>\n",
       "    <tr>\n",
       "      <th>...</th>\n",
       "      <td>...</td>\n",
       "      <td>...</td>\n",
       "      <td>...</td>\n",
       "      <td>...</td>\n",
       "      <td>...</td>\n",
       "      <td>...</td>\n",
       "      <td>...</td>\n",
       "      <td>...</td>\n",
       "      <td>...</td>\n",
       "      <td>...</td>\n",
       "      <td>...</td>\n",
       "      <td>...</td>\n",
       "    </tr>\n",
       "    <tr>\n",
       "      <th>145</th>\n",
       "      <td>6.7</td>\n",
       "      <td>3.0</td>\n",
       "      <td>5.2</td>\n",
       "      <td>2.3</td>\n",
       "      <td>0.856667</td>\n",
       "      <td>0.733878</td>\n",
       "      <td>-0.057333</td>\n",
       "      <td>0.003287</td>\n",
       "      <td>1.442</td>\n",
       "      <td>2.079364</td>\n",
       "      <td>1.100667</td>\n",
       "      <td>1.211467</td>\n",
       "    </tr>\n",
       "    <tr>\n",
       "      <th>146</th>\n",
       "      <td>6.3</td>\n",
       "      <td>2.5</td>\n",
       "      <td>5.0</td>\n",
       "      <td>1.9</td>\n",
       "      <td>0.456667</td>\n",
       "      <td>0.208544</td>\n",
       "      <td>-0.557333</td>\n",
       "      <td>0.310620</td>\n",
       "      <td>1.242</td>\n",
       "      <td>1.542564</td>\n",
       "      <td>0.700667</td>\n",
       "      <td>0.490934</td>\n",
       "    </tr>\n",
       "    <tr>\n",
       "      <th>147</th>\n",
       "      <td>6.5</td>\n",
       "      <td>3.0</td>\n",
       "      <td>5.2</td>\n",
       "      <td>2.0</td>\n",
       "      <td>0.656667</td>\n",
       "      <td>0.431211</td>\n",
       "      <td>-0.057333</td>\n",
       "      <td>0.003287</td>\n",
       "      <td>1.442</td>\n",
       "      <td>2.079364</td>\n",
       "      <td>0.800667</td>\n",
       "      <td>0.641067</td>\n",
       "    </tr>\n",
       "    <tr>\n",
       "      <th>148</th>\n",
       "      <td>6.2</td>\n",
       "      <td>3.4</td>\n",
       "      <td>5.4</td>\n",
       "      <td>2.3</td>\n",
       "      <td>0.356667</td>\n",
       "      <td>0.127211</td>\n",
       "      <td>0.342667</td>\n",
       "      <td>0.117420</td>\n",
       "      <td>1.642</td>\n",
       "      <td>2.696164</td>\n",
       "      <td>1.100667</td>\n",
       "      <td>1.211467</td>\n",
       "    </tr>\n",
       "    <tr>\n",
       "      <th>149</th>\n",
       "      <td>5.9</td>\n",
       "      <td>3.0</td>\n",
       "      <td>5.1</td>\n",
       "      <td>1.8</td>\n",
       "      <td>0.056667</td>\n",
       "      <td>0.003211</td>\n",
       "      <td>-0.057333</td>\n",
       "      <td>0.003287</td>\n",
       "      <td>1.342</td>\n",
       "      <td>1.800964</td>\n",
       "      <td>0.600667</td>\n",
       "      <td>0.360800</td>\n",
       "    </tr>\n",
       "  </tbody>\n",
       "</table>\n",
       "<p>150 rows × 12 columns</p>\n",
       "</div>"
      ],
      "text/plain": [
       "     sepal_length  sepal_width  petal_length  petal_width      dev1       SD1  \\\n",
       "0             5.1          3.5           1.4          0.2 -0.743333  0.552544   \n",
       "1             4.9          3.0           1.4          0.2 -0.943333  0.889878   \n",
       "2             4.7          3.2           1.3          0.2 -1.143333  1.307211   \n",
       "3             4.6          3.1           1.5          0.2 -1.243333  1.545878   \n",
       "4             5.0          3.6           1.4          0.2 -0.843333  0.711211   \n",
       "..            ...          ...           ...          ...       ...       ...   \n",
       "145           6.7          3.0           5.2          2.3  0.856667  0.733878   \n",
       "146           6.3          2.5           5.0          1.9  0.456667  0.208544   \n",
       "147           6.5          3.0           5.2          2.0  0.656667  0.431211   \n",
       "148           6.2          3.4           5.4          2.3  0.356667  0.127211   \n",
       "149           5.9          3.0           5.1          1.8  0.056667  0.003211   \n",
       "\n",
       "         dev2       SD2   dev3       SD3      dev4       SD4  \n",
       "0    0.442667  0.195954 -2.358  5.560164 -0.999333  0.998667  \n",
       "1   -0.057333  0.003287 -2.358  5.560164 -0.999333  0.998667  \n",
       "2    0.142667  0.020354 -2.458  6.041764 -0.999333  0.998667  \n",
       "3    0.042667  0.001820 -2.258  5.098564 -0.999333  0.998667  \n",
       "4    0.542667  0.294487 -2.358  5.560164 -0.999333  0.998667  \n",
       "..        ...       ...    ...       ...       ...       ...  \n",
       "145 -0.057333  0.003287  1.442  2.079364  1.100667  1.211467  \n",
       "146 -0.557333  0.310620  1.242  1.542564  0.700667  0.490934  \n",
       "147 -0.057333  0.003287  1.442  2.079364  0.800667  0.641067  \n",
       "148  0.342667  0.117420  1.642  2.696164  1.100667  1.211467  \n",
       "149 -0.057333  0.003287  1.342  1.800964  0.600667  0.360800  \n",
       "\n",
       "[150 rows x 12 columns]"
      ]
     },
     "execution_count": 46,
     "metadata": {},
     "output_type": "execute_result"
    }
   ],
   "source": [
    "df"
   ]
  },
  {
   "cell_type": "code",
   "execution_count": 48,
   "id": "43f7e5f8-4b9c-4ca5-b680-1bb201e04b91",
   "metadata": {},
   "outputs": [
    {
     "data": {
      "text/plain": [
       "-0.04215111111111109"
      ]
     },
     "execution_count": 48,
     "metadata": {},
     "output_type": "execute_result"
    }
   ],
   "source": [
    "df['cov1']=df['dev1']*df['dev2']\n",
    "add=0\n",
    "for i in df['cov1']:\n",
    "    add+=i\n",
    "cov1=add/len(df)\n",
    "cov1"
   ]
  },
  {
   "cell_type": "code",
   "execution_count": 49,
   "id": "5c0c93c4-6a6b-47ef-a15e-d8e14e33ec04",
   "metadata": {},
   "outputs": [
    {
     "data": {
      "text/plain": [
       "1.2869719999999993"
      ]
     },
     "execution_count": 49,
     "metadata": {},
     "output_type": "execute_result"
    }
   ],
   "source": [
    "df['cov2']=df['dev3']*df['dev4']\n",
    "add=0\n",
    "for i in df['cov2']:\n",
    "    add+=i\n",
    "cov2=add/len(df)\n",
    "cov2"
   ]
  },
  {
   "cell_type": "code",
   "execution_count": 51,
   "id": "97445fb4-2b00-4eaa-83d8-6cf0f80012e7",
   "metadata": {},
   "outputs": [
    {
     "data": {
      "text/plain": [
       "-0.11756978413300205"
      ]
     },
     "execution_count": 51,
     "metadata": {},
     "output_type": "execute_result"
    }
   ],
   "source": [
    "cor1=cov1/(sd1*sd2)\n",
    "cor1"
   ]
  },
  {
   "cell_type": "code",
   "execution_count": 52,
   "id": "84b177df-a21e-4b2a-8e90-878a82026c41",
   "metadata": {},
   "outputs": [
    {
     "data": {
      "text/plain": [
       "0.9628654314027956"
      ]
     },
     "execution_count": 52,
     "metadata": {},
     "output_type": "execute_result"
    }
   ],
   "source": [
    "cor2=cov2/(sd3*sd4)\n",
    "cor2"
   ]
  },
  {
   "cell_type": "code",
   "execution_count": null,
   "id": "924d357d-f670-4d93-8200-a599319956bf",
   "metadata": {},
   "outputs": [],
   "source": []
  },
  {
   "cell_type": "code",
   "execution_count": null,
   "id": "28e1b142-533a-43de-b721-3468741863ec",
   "metadata": {},
   "outputs": [],
   "source": []
  },
  {
   "cell_type": "code",
   "execution_count": null,
   "id": "10b399ea-17b8-470c-9137-4e56d6f14adb",
   "metadata": {},
   "outputs": [],
   "source": []
  }
 ],
 "metadata": {
  "kernelspec": {
   "display_name": "Python 3 (ipykernel)",
   "language": "python",
   "name": "python3"
  },
  "language_info": {
   "codemirror_mode": {
    "name": "ipython",
    "version": 3
   },
   "file_extension": ".py",
   "mimetype": "text/x-python",
   "name": "python",
   "nbconvert_exporter": "python",
   "pygments_lexer": "ipython3",
   "version": "3.11.0"
  }
 },
 "nbformat": 4,
 "nbformat_minor": 5
}
